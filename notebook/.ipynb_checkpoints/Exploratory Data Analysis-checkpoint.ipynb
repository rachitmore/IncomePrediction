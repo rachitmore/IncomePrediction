{
 "cells": [
  {
   "cell_type": "markdown",
   "id": "3fe1400b",
   "metadata": {},
   "source": [
    "# Census Income Prediction\n",
    "\n",
    "## Introduction About the Data\n",
    "\n",
    "Prediction task is to determine whether a person makes over 50K a year. (Classification Analysis)\n",
    "\n",
    "There are 14 Independent Variables.\n",
    "\n",
    "- age: continuous.\n",
    "- workclass: Private, Self-emp-not-inc, Self-emp-inc, Federal-gov, Local-gov, State-gov, Without-pay, Never-worked.\n",
    "- fnlwgt: continuous.\n",
    "- education: Bachelors, Some-college, 11th, HS-grad, Prof-school, Assoc-acdm, Assoc-voc, 9th, 7th-8th, 12th, Masters, 1st-4th, 10th, Doctorate 5th-6th, Preschool.\n",
    "- education-num: continuous.\n",
    "- marital-status: Married-civ-spouse, Divorced, Never-married, Separated, Widowed, Married-spouse-absent, Married-AF-spouse.\n",
    "- occupation: Tech-support, Craft-repair, Other-service, Sales, Exec-managerial, Prof-specialty, Handlers-cleaners, Machine-op-inspct,Adm-clerical, Farming-fishing, Transport-moving, Priv-house-serv, Protective-serv, Armed-Forces.\n",
    "- relationship: Wife, Own-child, Husband, Not-in-family, Other-relative, Unmarried.\n",
    "- race: White, Asian-Pac-Islander, Amer-Indian-Eskimo, Other, Black.\n",
    "- sex: Female, Male.\n",
    "- capital-gain: continuous.\n",
    "- capital-loss: continuous.\n",
    "- hours-per-week: continuous.\n",
    "- native-country: United-States, Cambodia, England, Puerto-Rico, Canada, Germany, Outlying-US(Guam-USVI-etc), India, Japan, Greece, South, China, Cuba, Iran, Honduras, Philippines, Italy, Poland, Jamaica, Vietnam, Mexico, Portugal, Ireland, France, Dominican-Republic, Laos, Ecuador, Taiwan, Haiti, Columbia, Hungary, Guatemala, Nicaragua, Scotland, Thailand, Yugoslavia, El-Salvador, Trinadad&Tobago, Peru, Hong, Holand-Netherlands.\n",
    "\n",
    "Target Varibale:\n",
    "- income: >50K, <=50K.\n",
    "\n",
    "Dataset Source Link : https://archive.ics.uci.edu/ml/datasets/census+income"
   ]
  },
  {
   "cell_type": "code",
   "execution_count": 1,
   "id": "11a0b778",
   "metadata": {},
   "outputs": [],
   "source": [
    "import numpy as np\n",
    "import pandas as pd\n",
    "import matplotlib.pyplot as plt\n",
    "import seaborn as sns\n",
    "from sklearn.model_selection import train_test_split, cross_val_score\n",
    "from sklearn.preprocessing import StandardScaler\n",
    "from sklearn.decomposition import PCA\n",
    "from imblearn.over_sampling import SMOTE\n",
    "from imblearn.under_sampling import RandomUnderSampler\n",
    "\n",
    "\n",
    "%matplotlib inline"
   ]
  },
  {
   "cell_type": "code",
   "execution_count": 2,
   "id": "9e6d1e4c",
   "metadata": {},
   "outputs": [
    {
     "ename": "FileNotFoundError",
     "evalue": "[Errno 2] No such file or directory: 'artifacts/data/raw/adult.csv'",
     "output_type": "error",
     "traceback": [
      "\u001b[1;31m---------------------------------------------------------------------------\u001b[0m",
      "\u001b[1;31mFileNotFoundError\u001b[0m                         Traceback (most recent call last)",
      "\u001b[1;32m~\\AppData\\Local\\Temp\\ipykernel_18960\\1069441737.py\u001b[0m in \u001b[0;36m<module>\u001b[1;34m\u001b[0m\n\u001b[1;32m----> 1\u001b[1;33m \u001b[0mdf\u001b[0m \u001b[1;33m=\u001b[0m \u001b[0mpd\u001b[0m\u001b[1;33m.\u001b[0m\u001b[0mread_csv\u001b[0m\u001b[1;33m(\u001b[0m\u001b[1;34m\"artifacts/data/raw/adult.csv\"\u001b[0m\u001b[1;33m)\u001b[0m\u001b[1;33m\u001b[0m\u001b[1;33m\u001b[0m\u001b[0m\n\u001b[0m",
      "\u001b[1;32m~\\anaconda3\\lib\\site-packages\\pandas\\util\\_decorators.py\u001b[0m in \u001b[0;36mwrapper\u001b[1;34m(*args, **kwargs)\u001b[0m\n\u001b[0;32m    309\u001b[0m                     \u001b[0mstacklevel\u001b[0m\u001b[1;33m=\u001b[0m\u001b[0mstacklevel\u001b[0m\u001b[1;33m,\u001b[0m\u001b[1;33m\u001b[0m\u001b[1;33m\u001b[0m\u001b[0m\n\u001b[0;32m    310\u001b[0m                 )\n\u001b[1;32m--> 311\u001b[1;33m             \u001b[1;32mreturn\u001b[0m \u001b[0mfunc\u001b[0m\u001b[1;33m(\u001b[0m\u001b[1;33m*\u001b[0m\u001b[0margs\u001b[0m\u001b[1;33m,\u001b[0m \u001b[1;33m**\u001b[0m\u001b[0mkwargs\u001b[0m\u001b[1;33m)\u001b[0m\u001b[1;33m\u001b[0m\u001b[1;33m\u001b[0m\u001b[0m\n\u001b[0m\u001b[0;32m    312\u001b[0m \u001b[1;33m\u001b[0m\u001b[0m\n\u001b[0;32m    313\u001b[0m         \u001b[1;32mreturn\u001b[0m \u001b[0mwrapper\u001b[0m\u001b[1;33m\u001b[0m\u001b[1;33m\u001b[0m\u001b[0m\n",
      "\u001b[1;32m~\\anaconda3\\lib\\site-packages\\pandas\\io\\parsers\\readers.py\u001b[0m in \u001b[0;36mread_csv\u001b[1;34m(filepath_or_buffer, sep, delimiter, header, names, index_col, usecols, squeeze, prefix, mangle_dupe_cols, dtype, engine, converters, true_values, false_values, skipinitialspace, skiprows, skipfooter, nrows, na_values, keep_default_na, na_filter, verbose, skip_blank_lines, parse_dates, infer_datetime_format, keep_date_col, date_parser, dayfirst, cache_dates, iterator, chunksize, compression, thousands, decimal, lineterminator, quotechar, quoting, doublequote, escapechar, comment, encoding, encoding_errors, dialect, error_bad_lines, warn_bad_lines, on_bad_lines, delim_whitespace, low_memory, memory_map, float_precision, storage_options)\u001b[0m\n\u001b[0;32m    676\u001b[0m     \u001b[0mkwds\u001b[0m\u001b[1;33m.\u001b[0m\u001b[0mupdate\u001b[0m\u001b[1;33m(\u001b[0m\u001b[0mkwds_defaults\u001b[0m\u001b[1;33m)\u001b[0m\u001b[1;33m\u001b[0m\u001b[1;33m\u001b[0m\u001b[0m\n\u001b[0;32m    677\u001b[0m \u001b[1;33m\u001b[0m\u001b[0m\n\u001b[1;32m--> 678\u001b[1;33m     \u001b[1;32mreturn\u001b[0m \u001b[0m_read\u001b[0m\u001b[1;33m(\u001b[0m\u001b[0mfilepath_or_buffer\u001b[0m\u001b[1;33m,\u001b[0m \u001b[0mkwds\u001b[0m\u001b[1;33m)\u001b[0m\u001b[1;33m\u001b[0m\u001b[1;33m\u001b[0m\u001b[0m\n\u001b[0m\u001b[0;32m    679\u001b[0m \u001b[1;33m\u001b[0m\u001b[0m\n\u001b[0;32m    680\u001b[0m \u001b[1;33m\u001b[0m\u001b[0m\n",
      "\u001b[1;32m~\\anaconda3\\lib\\site-packages\\pandas\\io\\parsers\\readers.py\u001b[0m in \u001b[0;36m_read\u001b[1;34m(filepath_or_buffer, kwds)\u001b[0m\n\u001b[0;32m    573\u001b[0m \u001b[1;33m\u001b[0m\u001b[0m\n\u001b[0;32m    574\u001b[0m     \u001b[1;31m# Create the parser.\u001b[0m\u001b[1;33m\u001b[0m\u001b[1;33m\u001b[0m\u001b[0m\n\u001b[1;32m--> 575\u001b[1;33m     \u001b[0mparser\u001b[0m \u001b[1;33m=\u001b[0m \u001b[0mTextFileReader\u001b[0m\u001b[1;33m(\u001b[0m\u001b[0mfilepath_or_buffer\u001b[0m\u001b[1;33m,\u001b[0m \u001b[1;33m**\u001b[0m\u001b[0mkwds\u001b[0m\u001b[1;33m)\u001b[0m\u001b[1;33m\u001b[0m\u001b[1;33m\u001b[0m\u001b[0m\n\u001b[0m\u001b[0;32m    576\u001b[0m \u001b[1;33m\u001b[0m\u001b[0m\n\u001b[0;32m    577\u001b[0m     \u001b[1;32mif\u001b[0m \u001b[0mchunksize\u001b[0m \u001b[1;32mor\u001b[0m \u001b[0miterator\u001b[0m\u001b[1;33m:\u001b[0m\u001b[1;33m\u001b[0m\u001b[1;33m\u001b[0m\u001b[0m\n",
      "\u001b[1;32m~\\anaconda3\\lib\\site-packages\\pandas\\io\\parsers\\readers.py\u001b[0m in \u001b[0;36m__init__\u001b[1;34m(self, f, engine, **kwds)\u001b[0m\n\u001b[0;32m    930\u001b[0m \u001b[1;33m\u001b[0m\u001b[0m\n\u001b[0;32m    931\u001b[0m         \u001b[0mself\u001b[0m\u001b[1;33m.\u001b[0m\u001b[0mhandles\u001b[0m\u001b[1;33m:\u001b[0m \u001b[0mIOHandles\u001b[0m \u001b[1;33m|\u001b[0m \u001b[1;32mNone\u001b[0m \u001b[1;33m=\u001b[0m \u001b[1;32mNone\u001b[0m\u001b[1;33m\u001b[0m\u001b[1;33m\u001b[0m\u001b[0m\n\u001b[1;32m--> 932\u001b[1;33m         \u001b[0mself\u001b[0m\u001b[1;33m.\u001b[0m\u001b[0m_engine\u001b[0m \u001b[1;33m=\u001b[0m \u001b[0mself\u001b[0m\u001b[1;33m.\u001b[0m\u001b[0m_make_engine\u001b[0m\u001b[1;33m(\u001b[0m\u001b[0mf\u001b[0m\u001b[1;33m,\u001b[0m \u001b[0mself\u001b[0m\u001b[1;33m.\u001b[0m\u001b[0mengine\u001b[0m\u001b[1;33m)\u001b[0m\u001b[1;33m\u001b[0m\u001b[1;33m\u001b[0m\u001b[0m\n\u001b[0m\u001b[0;32m    933\u001b[0m \u001b[1;33m\u001b[0m\u001b[0m\n\u001b[0;32m    934\u001b[0m     \u001b[1;32mdef\u001b[0m \u001b[0mclose\u001b[0m\u001b[1;33m(\u001b[0m\u001b[0mself\u001b[0m\u001b[1;33m)\u001b[0m\u001b[1;33m:\u001b[0m\u001b[1;33m\u001b[0m\u001b[1;33m\u001b[0m\u001b[0m\n",
      "\u001b[1;32m~\\anaconda3\\lib\\site-packages\\pandas\\io\\parsers\\readers.py\u001b[0m in \u001b[0;36m_make_engine\u001b[1;34m(self, f, engine)\u001b[0m\n\u001b[0;32m   1214\u001b[0m             \u001b[1;31m# \"Union[str, PathLike[str], ReadCsvBuffer[bytes], ReadCsvBuffer[str]]\"\u001b[0m\u001b[1;33m\u001b[0m\u001b[1;33m\u001b[0m\u001b[0m\n\u001b[0;32m   1215\u001b[0m             \u001b[1;31m# , \"str\", \"bool\", \"Any\", \"Any\", \"Any\", \"Any\", \"Any\"\u001b[0m\u001b[1;33m\u001b[0m\u001b[1;33m\u001b[0m\u001b[0m\n\u001b[1;32m-> 1216\u001b[1;33m             self.handles = get_handle(  # type: ignore[call-overload]\n\u001b[0m\u001b[0;32m   1217\u001b[0m                 \u001b[0mf\u001b[0m\u001b[1;33m,\u001b[0m\u001b[1;33m\u001b[0m\u001b[1;33m\u001b[0m\u001b[0m\n\u001b[0;32m   1218\u001b[0m                 \u001b[0mmode\u001b[0m\u001b[1;33m,\u001b[0m\u001b[1;33m\u001b[0m\u001b[1;33m\u001b[0m\u001b[0m\n",
      "\u001b[1;32m~\\anaconda3\\lib\\site-packages\\pandas\\io\\common.py\u001b[0m in \u001b[0;36mget_handle\u001b[1;34m(path_or_buf, mode, encoding, compression, memory_map, is_text, errors, storage_options)\u001b[0m\n\u001b[0;32m    784\u001b[0m         \u001b[1;32mif\u001b[0m \u001b[0mioargs\u001b[0m\u001b[1;33m.\u001b[0m\u001b[0mencoding\u001b[0m \u001b[1;32mand\u001b[0m \u001b[1;34m\"b\"\u001b[0m \u001b[1;32mnot\u001b[0m \u001b[1;32min\u001b[0m \u001b[0mioargs\u001b[0m\u001b[1;33m.\u001b[0m\u001b[0mmode\u001b[0m\u001b[1;33m:\u001b[0m\u001b[1;33m\u001b[0m\u001b[1;33m\u001b[0m\u001b[0m\n\u001b[0;32m    785\u001b[0m             \u001b[1;31m# Encoding\u001b[0m\u001b[1;33m\u001b[0m\u001b[1;33m\u001b[0m\u001b[0m\n\u001b[1;32m--> 786\u001b[1;33m             handle = open(\n\u001b[0m\u001b[0;32m    787\u001b[0m                 \u001b[0mhandle\u001b[0m\u001b[1;33m,\u001b[0m\u001b[1;33m\u001b[0m\u001b[1;33m\u001b[0m\u001b[0m\n\u001b[0;32m    788\u001b[0m                 \u001b[0mioargs\u001b[0m\u001b[1;33m.\u001b[0m\u001b[0mmode\u001b[0m\u001b[1;33m,\u001b[0m\u001b[1;33m\u001b[0m\u001b[1;33m\u001b[0m\u001b[0m\n",
      "\u001b[1;31mFileNotFoundError\u001b[0m: [Errno 2] No such file or directory: 'artifacts/data/raw/adult.csv'"
     ]
    }
   ],
   "source": [
    "df = pd.read_csv(\"data/raw/adult.csv\")"
   ]
  },
  {
   "cell_type": "code",
   "execution_count": null,
   "id": "89bc04ab",
   "metadata": {},
   "outputs": [],
   "source": [
    "df.head()"
   ]
  },
  {
   "cell_type": "code",
   "execution_count": null,
   "id": "97537900",
   "metadata": {},
   "outputs": [],
   "source": [
    "df.shape"
   ]
  },
  {
   "cell_type": "code",
   "execution_count": null,
   "id": "8ea93011",
   "metadata": {},
   "outputs": [],
   "source": [
    "df.columns"
   ]
  },
  {
   "cell_type": "code",
   "execution_count": null,
   "id": "75b457da",
   "metadata": {},
   "outputs": [],
   "source": [
    "df.info()"
   ]
  },
  {
   "cell_type": "code",
   "execution_count": null,
   "id": "c6a42d7e",
   "metadata": {},
   "outputs": [],
   "source": [
    "df.isnull().sum()"
   ]
  },
  {
   "cell_type": "code",
   "execution_count": null,
   "id": "b880b995",
   "metadata": {},
   "outputs": [],
   "source": [
    "df.describe()"
   ]
  },
  {
   "cell_type": "code",
   "execution_count": null,
   "id": "e04779af",
   "metadata": {},
   "outputs": [],
   "source": [
    "df.nunique()"
   ]
  },
  {
   "cell_type": "code",
   "execution_count": null,
   "id": "b88e70cb",
   "metadata": {},
   "outputs": [],
   "source": [
    "df.duplicated().sum()"
   ]
  },
  {
   "cell_type": "markdown",
   "id": "f4f9de91",
   "metadata": {},
   "source": [
    "#### Obeservation: There are 24 duplicate values in the dataset."
   ]
  },
  {
   "cell_type": "code",
   "execution_count": null,
   "id": "9f8ab6b3",
   "metadata": {},
   "outputs": [],
   "source": [
    "#droping duplicates\n",
    "df.drop_duplicates(keep='first',inplace=True)"
   ]
  },
  {
   "cell_type": "code",
   "execution_count": null,
   "id": "9bdf66a5",
   "metadata": {},
   "outputs": [],
   "source": [
    "df.shape"
   ]
  },
  {
   "cell_type": "code",
   "execution_count": null,
   "id": "0d98dbb6",
   "metadata": {},
   "outputs": [],
   "source": [
    "df.duplicated().sum()"
   ]
  },
  {
   "cell_type": "markdown",
   "id": "f53ebe38",
   "metadata": {},
   "source": [
    "#### Obeservation: There no duplicate values left in the dataset."
   ]
  },
  {
   "cell_type": "code",
   "execution_count": null,
   "id": "6aac2d20",
   "metadata": {},
   "outputs": [],
   "source": [
    "# Separating numerical and categorical features\n",
    "numerical_features = df.select_dtypes(include=['int64', 'float64']).columns\n",
    "categorical_features = df.select_dtypes(include=['object']).columns"
   ]
  },
  {
   "cell_type": "code",
   "execution_count": null,
   "id": "c0206f21",
   "metadata": {},
   "outputs": [],
   "source": [
    "num_col = df.select_dtypes(include=['int64', 'float64'])\n",
    "cat_col = df.select_dtypes(include=['object'])"
   ]
  },
  {
   "cell_type": "code",
   "execution_count": null,
   "id": "6bd4908f",
   "metadata": {},
   "outputs": [],
   "source": [
    "num_col"
   ]
  },
  {
   "cell_type": "code",
   "execution_count": null,
   "id": "77844857",
   "metadata": {},
   "outputs": [],
   "source": [
    "cat_col"
   ]
  },
  {
   "cell_type": "code",
   "execution_count": null,
   "id": "af4230d5",
   "metadata": {},
   "outputs": [],
   "source": [
    "numerical_features.head()"
   ]
  },
  {
   "cell_type": "code",
   "execution_count": null,
   "id": "7c3adb34",
   "metadata": {},
   "outputs": [],
   "source": [
    "categorical_features.head()"
   ]
  },
  {
   "cell_type": "code",
   "execution_count": null,
   "id": "2a768d27",
   "metadata": {},
   "outputs": [],
   "source": [
    "numerical_features.shape"
   ]
  },
  {
   "cell_type": "code",
   "execution_count": null,
   "id": "b8383275",
   "metadata": {},
   "outputs": [],
   "source": [
    "categorical_features.shape"
   ]
  },
  {
   "cell_type": "markdown",
   "id": "17baffb7",
   "metadata": {},
   "source": [
    "#### Obeservation:\n",
    "* There are total 32537 rows and 15 columns in the dataset\n",
    "* Categorical features = 9 and Numerical features = 6"
   ]
  },
  {
   "cell_type": "code",
   "execution_count": null,
   "id": "fb720d72",
   "metadata": {},
   "outputs": [],
   "source": [
    "# finding the unique values in numerical feature\n",
    "for feature in numerical_features.columns:\n",
    "    print(feature)\n",
    "    print(numerical_features[feature].unique())\n",
    "    print(\"\")"
   ]
  },
  {
   "cell_type": "code",
   "execution_count": null,
   "id": "a22612fe",
   "metadata": {},
   "outputs": [],
   "source": [
    "# finding the unique values in categorical feature\n",
    "for feature in categorical_features.columns:\n",
    "    print(feature)\n",
    "    print(categorical_features[feature].unique())\n",
    "    print(\"\")"
   ]
  },
  {
   "cell_type": "markdown",
   "id": "57ccb8aa",
   "metadata": {},
   "source": [
    "#### Observation:\n",
    "* It seems to be NaN values in categorical feature in the form of  '?'"
   ]
  },
  {
   "cell_type": "code",
   "execution_count": null,
   "id": "ce216adc",
   "metadata": {},
   "outputs": [],
   "source": [
    "#replacing '?' with NaN\n",
    "categorical_features.replace(' ?',np.nan,inplace=True) "
   ]
  },
  {
   "cell_type": "code",
   "execution_count": null,
   "id": "78de297f",
   "metadata": {},
   "outputs": [],
   "source": [
    "categorical_features.isnull().sum()"
   ]
  },
  {
   "cell_type": "markdown",
   "id": "05673537",
   "metadata": {},
   "source": [
    "#### Observation:\n",
    "There are null values in the categorical features. \n",
    "* Workclass - 1836\n",
    "* occupation - 1843\n",
    "* native_country - 582"
   ]
  },
  {
   "cell_type": "code",
   "execution_count": null,
   "id": "8a9066ce",
   "metadata": {},
   "outputs": [],
   "source": [
    "# Checking relative null values for categorical feature\n",
    "sns.heatmap(categorical_features.isnull(),yticklabels=False,cbar=False,cmap='viridis')"
   ]
  },
  {
   "cell_type": "code",
   "execution_count": null,
   "id": "c0484150",
   "metadata": {},
   "outputs": [],
   "source": [
    "## Checking distribution of our target variable -> income\n",
    "categories = categorical_features['income'].unique()\n",
    "values = categorical_features['income'].value_counts()\n",
    "\n",
    "# Create a figure and axes\n",
    "fig, ax = plt.subplots()\n",
    "\n",
    "# Plot the vertical bar chart\n",
    "ax.bar(categories, values, align='center')\n",
    "\n",
    "# Set labels for x-axis and y-axis\n",
    "ax.set_xlabel('Categories')\n",
    "ax.set_ylabel('Values')\n",
    "\n",
    "# Set title\n",
    "ax.set_title('Vertical Bar Chart')\n",
    "\n",
    "# Show the plot\n",
    "plt.show()\n"
   ]
  },
  {
   "cell_type": "code",
   "execution_count": null,
   "id": "4c581d19",
   "metadata": {},
   "outputs": [],
   "source": [
    "values"
   ]
  },
  {
   "cell_type": "markdown",
   "id": "9f88c805",
   "metadata": {},
   "source": [
    "#### Observation:\n",
    "* Dataset is slidely imbalanced.\n",
    "* Total records - 32537\n",
    "* income <=50K - 24698 records 76% approx\n",
    "* income >50K  - 7839  records 24% approx"
   ]
  },
  {
   "cell_type": "code",
   "execution_count": null,
   "id": "fd2fa642",
   "metadata": {},
   "outputs": [],
   "source": [
    "## Checking Distribution of workclass feature\n",
    "\n",
    "plt.figure(figsize=(10, 6)) \n",
    "categorical_features['workclass'].value_counts().plot(kind='bar', stacked=True)\n",
    "plt.xlabel('Categories')\n",
    "plt.ylabel('Count')\n",
    "plt.title('Categories vs. Categories Count')\n",
    "\n",
    "plt.show()"
   ]
  },
  {
   "cell_type": "markdown",
   "id": "45a9381c",
   "metadata": {},
   "source": [
    "#### Observation:\n",
    "* Most frequent category in workclass is \"Private\" \n",
    "* Every category contains both income classes.\n",
    "* Except self-emp-inc every category major income class is \"<=50k\""
   ]
  },
  {
   "cell_type": "code",
   "execution_count": null,
   "id": "a43e9073",
   "metadata": {},
   "outputs": [],
   "source": [
    "## Checking Distribution of education feature\n",
    "\n",
    "plt.figure(figsize=(10, 6)) \n",
    "categorical_features['education'].value_counts().plot(kind='bar', stacked=True)\n",
    "plt.xlabel('Categories')\n",
    "plt.ylabel('Count')\n",
    "plt.title('Categories vs. Categories Count')\n",
    "\n",
    "plt.show()"
   ]
  },
  {
   "cell_type": "code",
   "execution_count": null,
   "id": "8d165724",
   "metadata": {},
   "outputs": [],
   "source": [
    "## Checking Distribution of occupation feature\n",
    "\n",
    "plt.figure(figsize=(10, 6)) \n",
    "categorical_features['occupation'].value_counts().plot(kind='bar', stacked=True)\n",
    "plt.xlabel('Categories')\n",
    "plt.ylabel('Count')\n",
    "plt.title('Categories vs. Categories Count')\n",
    "\n",
    "plt.show()"
   ]
  },
  {
   "cell_type": "code",
   "execution_count": null,
   "id": "0e2f458c",
   "metadata": {},
   "outputs": [],
   "source": [
    "# Visualizing the relationship between occupation,occupation category count and income\n",
    "# Create a count plot\n",
    "plt.figure(figsize=(10, 6)) \n",
    "sns.countplot(categorical_features,x='occupation',hue='income')\n",
    "plt.xticks(rotation=90)\n",
    "plt.show()"
   ]
  },
  {
   "cell_type": "code",
   "execution_count": null,
   "id": "966f6623",
   "metadata": {},
   "outputs": [],
   "source": [
    "# Visualizing the relationship between workclass,workclass category count and income \n",
    "# Create a count plot\n",
    "plt.figure(figsize=(10, 6)) \n",
    "sns.countplot(categorical_features,x='workclass',hue='income')\n",
    "plt.xticks(rotation=90)\n",
    "plt.show()"
   ]
  },
  {
   "cell_type": "code",
   "execution_count": null,
   "id": "f5b28521",
   "metadata": {},
   "outputs": [],
   "source": [
    "categorical_features['workclass'].fillna(categorical_features['workclass'].mode(),inplace=True)\n",
    "categorical_features['occupation'].fillna(categorical_features['occupation'].mode(),inplace=True)\n",
    "categorical_features['country'].fillna(categorical_features['country'].mode(),inplace=True)"
   ]
  },
  {
   "cell_type": "code",
   "execution_count": null,
   "id": "055b860a",
   "metadata": {},
   "outputs": [],
   "source": [
    "for feature in categorical_features.columns:\n",
    "    plt.figure(figsize=(8, 3)) \n",
    "    categorical_features[feature].value_counts().plot(kind='bar', stacked=True)\n",
    "    plt.xlabel(feature)\n",
    "    plt.ylabel('Count')\n",
    "    plt.title('Categories vs. Categories Count')\n",
    "\n",
    "    plt.show()"
   ]
  },
  {
   "cell_type": "code",
   "execution_count": null,
   "id": "50ce3601",
   "metadata": {},
   "outputs": [],
   "source": [
    "import numpy as np\n",
    "import matplotlib.pyplot as plt\n",
    "import seaborn as sns\n",
    "from scipy.stats import skew,kurtosis\n",
    "# Calculate skewness\n",
    "def skewkness(data):\n",
    "    data_skewness = skew(data)\n",
    "    print(\"Skewness:\", data_skewness)\n",
    "\n",
    "    if data_skewness< 0:\n",
    "        print(\"Left skew distribution\")\n",
    "    elif data_skewness > 0 :\n",
    "        print(\"Right skew distribution\")\n",
    "    else:\n",
    "        print(\"Symmetrical distribution\")\n",
    "        \n",
    "def calculate_kurtosis(data):\n",
    "    data_kurtosis = kurtosis(data)\n",
    "    print(\"Kurtosis:\", data_kurtosis)\n",
    "    \n",
    "    if data_kurtosis < 0:\n",
    "        print(\"platykurtic (lighter tail) \")\n",
    "        \n",
    "    elif data_kurtosis > 0 :\n",
    "        print(\"leptokurtic (heavier tail)\")\n",
    "    else:\n",
    "        print(\"Mesokurtic distribution\")"
   ]
  },
  {
   "cell_type": "code",
   "execution_count": null,
   "id": "efe96a88",
   "metadata": {},
   "outputs": [],
   "source": [
    "for feature in numerical_features.columns:\n",
    "    # Create a figure and axes\n",
    "    fig, ax = plt.subplots()\n",
    "\n",
    "    # Plot the histogram\n",
    "    ax.hist(numerical_features[feature], bins=30, density=True)\n",
    "\n",
    "    # Set labels and title\n",
    "    ax.set_xlabel(feature)\n",
    "    ax.set_ylabel('Frequency')\n",
    "    ax.set_title('Histogram')\n",
    "    \n",
    "    min_value = min(numerical_features[feature])\n",
    "    max_value = max(numerical_features[feature])\n",
    "    \n",
    "    # Set axis limits\n",
    "    ax.set_xlim([0, 10])\n",
    "    ax.set_ylim([-1.2, 1.2])\n",
    "\n",
    "    # Show the plot\n",
    "    plt.show()\n",
    "    skewkness(numerical_features[feature])\n",
    "    calculate_kurtosis(numerical_features[feature])\n"
   ]
  },
  {
   "cell_type": "code",
   "execution_count": null,
   "id": "88b515de",
   "metadata": {},
   "outputs": [],
   "source": [
    "# Visualizing the relationship between education,education category count and income\n",
    "# Create a count plot\n",
    "plt.figure(figsize=(10, 6)) \n",
    "sns.countplot(categorical_features,x='education',hue='income')\n",
    "plt.xticks(rotation=90)\n",
    "plt.show()"
   ]
  },
  {
   "cell_type": "code",
   "execution_count": null,
   "id": "5ce0d2c9",
   "metadata": {},
   "outputs": [],
   "source": [
    "# Create a figure and axes\n",
    "\n",
    "fig, ax = plt.subplots(figsize=( 12, 6))\n",
    "\n",
    "# Plot violin plots\n",
    "ax.violinplot(numerical_features, showmedians=True)\n",
    "\n",
    "# Set labels and title\n",
    "ax.set_xticks(range(len(numerical_features.columns)))\n",
    "ax.set_xticklabels(numerical_features.columns)\n",
    "ax.set_ylabel('Values')\n",
    "ax.set_title('Violin Plots')\n",
    "\n",
    "# Show the plot\n",
    "plt.show()"
   ]
  },
  {
   "cell_type": "markdown",
   "id": "1696191f",
   "metadata": {},
   "source": [
    "Clean the Data:\n",
    "\n",
    "Handle missing data: Identify missing values and decide how to handle them (e.g., imputation or removal).\n",
    "Remove duplicates: Identify and remove any duplicated observations.\n",
    "Handle outliers: Detect outliers and decide whether to keep, remove, or transform them."
   ]
  },
  {
   "cell_type": "code",
   "execution_count": null,
   "id": "66cffa66",
   "metadata": {},
   "outputs": [],
   "source": [
    "categorical_features.head()"
   ]
  },
  {
   "cell_type": "code",
   "execution_count": null,
   "id": "206de5bf",
   "metadata": {},
   "outputs": [],
   "source": [
    "categorical_features.shape"
   ]
  },
  {
   "cell_type": "code",
   "execution_count": null,
   "id": "3be74ac2",
   "metadata": {},
   "outputs": [],
   "source": [
    "categorical_features.columns"
   ]
  },
  {
   "cell_type": "code",
   "execution_count": null,
   "id": "fba62644",
   "metadata": {},
   "outputs": [],
   "source": [
    "numerical_features.head()"
   ]
  },
  {
   "cell_type": "code",
   "execution_count": null,
   "id": "d1b9a39c",
   "metadata": {},
   "outputs": [],
   "source": [
    "numerical_features.shape"
   ]
  },
  {
   "cell_type": "code",
   "execution_count": null,
   "id": "fdfbd715",
   "metadata": {},
   "outputs": [],
   "source": [
    "numerical_features.columns"
   ]
  },
  {
   "cell_type": "code",
   "execution_count": null,
   "id": "35748c87",
   "metadata": {},
   "outputs": [],
   "source": [
    "numerical_features"
   ]
  },
  {
   "cell_type": "code",
   "execution_count": null,
   "id": "e69ff80a",
   "metadata": {},
   "outputs": [],
   "source": [
    "new_df = pd.concat([numerical_features,categorical_features],axis=1)"
   ]
  },
  {
   "cell_type": "code",
   "execution_count": null,
   "id": "60bca33d",
   "metadata": {},
   "outputs": [],
   "source": [
    "new_df.head()"
   ]
  },
  {
   "cell_type": "code",
   "execution_count": null,
   "id": "eab2e7a1",
   "metadata": {},
   "outputs": [],
   "source": [
    "new_df.shape"
   ]
  },
  {
   "cell_type": "code",
   "execution_count": null,
   "id": "d1ac7af8",
   "metadata": {},
   "outputs": [],
   "source": [
    "new_df.columns"
   ]
  },
  {
   "cell_type": "code",
   "execution_count": null,
   "id": "59a2b0fc",
   "metadata": {},
   "outputs": [],
   "source": [
    "categorical_features"
   ]
  },
  {
   "cell_type": "code",
   "execution_count": null,
   "id": "e5b5b68b",
   "metadata": {},
   "outputs": [],
   "source": [
    "categorical_features.columns"
   ]
  },
  {
   "cell_type": "code",
   "execution_count": null,
   "id": "bf0592f4",
   "metadata": {},
   "outputs": [],
   "source": [
    "target = categorical_features[\"income\"]\n",
    "categorical_features.drop(labels=[\"income\",'education'], axis=1, inplace=True)"
   ]
  },
  {
   "cell_type": "code",
   "execution_count": null,
   "id": "b998429c",
   "metadata": {},
   "outputs": [],
   "source": [
    "target.unique()"
   ]
  },
  {
   "cell_type": "code",
   "execution_count": null,
   "id": "42eafa57",
   "metadata": {},
   "outputs": [],
   "source": [
    "mapping = {' <=50K': 0, ' >50K': 1}\n",
    "\n",
    "# Use the map() function to apply the mapping\n",
    "y = target.map(mapping)"
   ]
  },
  {
   "cell_type": "code",
   "execution_count": null,
   "id": "e20fc887",
   "metadata": {},
   "outputs": [],
   "source": [
    "import pandas as pd\n",
    "from sklearn.pipeline import Pipeline\n",
    "from sklearn.impute import SimpleImputer\n",
    "from sklearn.preprocessing import StandardScaler, OneHotEncoder\n",
    "from sklearn.compose import ColumnTransformer"
   ]
  },
  {
   "cell_type": "code",
   "execution_count": null,
   "id": "103ae4a0",
   "metadata": {},
   "outputs": [],
   "source": [
    "scaler = StandardScaler().fit(numerical_features)\n",
    "preprocessed_numerical_feature = scaler.transform(numerical_features)\n",
    "\n",
    "encoder = OneHotEncoder().fit(categorical_features)\n",
    "preprocessed_categorical_feature = encoder.transform(categorical_features).toarray()"
   ]
  },
  {
   "cell_type": "code",
   "execution_count": null,
   "id": "defacb2a",
   "metadata": {},
   "outputs": [],
   "source": [
    "preprocessed_numerical_feature.shape"
   ]
  },
  {
   "cell_type": "code",
   "execution_count": null,
   "id": "3aae8e27",
   "metadata": {},
   "outputs": [],
   "source": [
    "preprocessed_categorical_feature.shape"
   ]
  },
  {
   "cell_type": "code",
   "execution_count": null,
   "id": "f0e2377c",
   "metadata": {},
   "outputs": [],
   "source": [
    "numeric_df = pd.DataFrame(preprocessed_numerical_feature)\n",
    "categoric_df = pd.DataFrame(preprocessed_categorical_feature)"
   ]
  },
  {
   "cell_type": "code",
   "execution_count": null,
   "id": "1ddc284d",
   "metadata": {},
   "outputs": [],
   "source": [
    "preprocessing_df = pd.concat([numeric_df,categoric_df],axis=1) "
   ]
  },
  {
   "cell_type": "code",
   "execution_count": null,
   "id": "6bb093ac",
   "metadata": {},
   "outputs": [],
   "source": [
    "preprocessing_df.shape"
   ]
  },
  {
   "cell_type": "code",
   "execution_count": null,
   "id": "d6078c39",
   "metadata": {},
   "outputs": [],
   "source": [
    "preprocessing_df.head()"
   ]
  },
  {
   "cell_type": "code",
   "execution_count": null,
   "id": "f05d3a7b",
   "metadata": {},
   "outputs": [],
   "source": [
    "# Split the data into training and testing sets\n",
    "X_train, X_test, y_train, y_test = train_test_split(preprocessing_df, y, test_size=0.3, random_state=42)"
   ]
  },
  {
   "cell_type": "code",
   "execution_count": null,
   "id": "701dff24",
   "metadata": {},
   "outputs": [],
   "source": [
    "X_train.to_csv(\"data/X_train.csv\")\n",
    "y_train.to_csv(\"data/y_train.csv\")\n",
    "X_test.to_csv(\"data/X_test.csv\")\n",
    "y_test.to_csv(\"data/y_test.csv\")"
   ]
  },
  {
   "cell_type": "code",
   "execution_count": null,
   "id": "9e64bd4a",
   "metadata": {},
   "outputs": [],
   "source": [
    "pca = PCA(n_components=55)"
   ]
  },
  {
   "cell_type": "code",
   "execution_count": null,
   "id": "f9c3ef9d",
   "metadata": {},
   "outputs": [],
   "source": [
    "pca.fit(preprocessing_df)"
   ]
  },
  {
   "cell_type": "code",
   "execution_count": null,
   "id": "c4a1346b",
   "metadata": {},
   "outputs": [],
   "source": [
    "df_pca = pca.transform(preprocessing_df)"
   ]
  },
  {
   "cell_type": "code",
   "execution_count": null,
   "id": "7337981c",
   "metadata": {},
   "outputs": [],
   "source": [
    "from sklearn.model_selection import train_test_split"
   ]
  },
  {
   "cell_type": "code",
   "execution_count": null,
   "id": "80a68d80",
   "metadata": {},
   "outputs": [],
   "source": [
    "X_train, X_test, y_train, y_test = train_test_split(df_pca, y, test_size=0.33, random_state=42)"
   ]
  },
  {
   "cell_type": "code",
   "execution_count": null,
   "id": "7fb75dea",
   "metadata": {},
   "outputs": [],
   "source": [
    "# Calculate cumulative explained variance ratio\n",
    "cumulative_variance_ratio = np.cumsum(pca.explained_variance_ratio_)\n",
    "\n",
    "# Plot the cumulative explained variance ratio\n",
    "plt.plot(range(1, len(cumulative_variance_ratio) + 1), cumulative_variance_ratio, marker='o')\n",
    "plt.xlabel('Number of Components')\n",
    "plt.ylabel('Cumulative Explained Variance Ratio')\n",
    "plt.title('Cumulative Explained Variance Ratio vs. Number of Components')\n",
    "plt.grid(True)\n",
    "plt.show()\n"
   ]
  },
  {
   "cell_type": "code",
   "execution_count": null,
   "id": "6eae5b9b",
   "metadata": {},
   "outputs": [],
   "source": [
    "pd.DataFrame(X_train).to_csv(\"data/X_pca_train.csv\")\n",
    "pd.DataFrame(y_train).to_csv(\"data/y_pca_train.csv\")\n",
    "pd.DataFrame(X_test).to_csv(\"data/X_pca_test.csv\")\n",
    "pd.DataFrame(y_test).to_csv(\"data/y_pca_test.csv\")"
   ]
  },
  {
   "cell_type": "code",
   "execution_count": null,
   "id": "3de6e63c",
   "metadata": {},
   "outputs": [],
   "source": [
    "# Apply SMOTE (Synthetic Minority Over-sampling Technique) for oversampling\n",
    "smote = SMOTE(random_state=42)\n",
    "preprocessing_df_resampled, y_resampled = smote.fit_resample(preprocessing_df, y)\n",
    "X_train, X_test, y_train, y_test = train_test_split(preprocessing_df_resampled, y_resampled, test_size=0.33, random_state=42)\n",
    "\n",
    "pd.DataFrame(X_train).to_csv(\"data/X_SMOTE_train.csv\")\n",
    "pd.DataFrame(y_train).to_csv(\"data/y_SMOTE_train.csv\")\n",
    "pd.DataFrame(X_test).to_csv(\"data/X_SMOTE_test.csv\")\n",
    "pd.DataFrame(y_test).to_csv(\"data/y_SMOTE_test.csv\")"
   ]
  },
  {
   "cell_type": "code",
   "execution_count": null,
   "id": "deb9eb26",
   "metadata": {},
   "outputs": [],
   "source": [
    "# Apply Random Under-sampling for undersampling\n",
    "rus = RandomUnderSampler(random_state=42)\n",
    "preprocessing_undersampled, y_undersampled = rus.fit_resample(preprocessing_df, y)\n",
    "\n",
    "X_train, X_test, y_train, y_test = train_test_split(preprocessing_undersampled, y_undersampled, test_size=0.33, random_state=42)\n",
    "\n",
    "pd.DataFrame(X_train).to_csv(\"data/X_SMOTE_train.csv\")\n",
    "pd.DataFrame(y_train).to_csv(\"data/y_SMOTE_train.csv\")\n",
    "pd.DataFrame(X_test).to_csv(\"data/X_SMOTE_test.csv\")\n",
    "pd.DataFrame(y_test).to_csv(\"data/y_SMOTE_test.csv\")"
   ]
  }
 ],
 "metadata": {
  "kernelspec": {
   "display_name": "Python 3 (ipykernel)",
   "language": "python",
   "name": "python3"
  },
  "language_info": {
   "codemirror_mode": {
    "name": "ipython",
    "version": 3
   },
   "file_extension": ".py",
   "mimetype": "text/x-python",
   "name": "python",
   "nbconvert_exporter": "python",
   "pygments_lexer": "ipython3",
   "version": "3.9.13"
  }
 },
 "nbformat": 4,
 "nbformat_minor": 5
}
